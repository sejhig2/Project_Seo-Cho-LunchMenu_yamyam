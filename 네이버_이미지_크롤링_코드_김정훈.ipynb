{
  "nbformat": 4,
  "nbformat_minor": 0,
  "metadata": {
    "colab": {
      "name": "네이버 이미지 크롤링 코드 -김정훈",
      "private_outputs": true,
      "provenance": [],
      "authorship_tag": "ABX9TyPkOvOB9KeAX/Y5t8kr2y2Y",
      "include_colab_link": true
    },
    "kernelspec": {
      "name": "python3",
      "display_name": "Python 3"
    },
    "language_info": {
      "name": "python"
    }
  },
  "cells": [
    {
      "cell_type": "markdown",
      "metadata": {
        "id": "view-in-github",
        "colab_type": "text"
      },
      "source": [
        "<a href=\"https://colab.research.google.com/github/sejhig2/Project_Seo-Cho-LunchMenu_yamyam/blob/main/%EB%84%A4%EC%9D%B4%EB%B2%84_%EC%9D%B4%EB%AF%B8%EC%A7%80_%ED%81%AC%EB%A1%A4%EB%A7%81_%EC%BD%94%EB%93%9C_%EA%B9%80%EC%A0%95%ED%9B%88.ipynb\" target=\"_parent\"><img src=\"https://colab.research.google.com/assets/colab-badge.svg\" alt=\"Open In Colab\"/></a>"
      ]
    },
    {
      "cell_type": "code",
      "metadata": {
        "id": "MlJe3jW8d0vF"
      },
      "source": [
        "#네이버 플레이스 이미지 크롤링 김정훈\n",
        "import urllib.request\n",
        "from bs4 import BeautifulSoup\n",
        "\n",
        "#웹페이지의 소스를 가져온다.\n",
        "url = \"https://store.naver.com/restaurants/detail?id=1429600691\"\n",
        "fp = urllib.request.urlopen(url)\n",
        "source = fp.read();\n",
        "fp.close()\n",
        "\n",
        "#소스에서 img_area 클래스 하위의 소스를 가져온다.\n",
        "soup = BeautifulSoup(source, 'html.parser')\n",
        "soup = soup.find(\"div\",class_ = \"top_photo_area\") #class 옆부분 이미지에 맞는 코드를 가져오면 불러오기가능\n",
        "\n",
        "#이미지 경로를 받아온다.\n",
        "imgURL = soup.find(\"img\")[\"src\"]\n",
        "\n",
        "print(imgURL)\n",
        "\n",
        "#네이버 검색하면 나오는 이미지 크롤링\n",
        "from selenium import webdriver\n",
        "import requests as req\n",
        "import time\n",
        "from selenium.webdriver.common.keys import Keys\n",
        "from urllib.request import urlopen\n",
        "import os\n",
        " \n",
        "#찾고자 하는 검색어를 url로 만들어 준다.\n",
        "searchterm = '효령로 한식맛집' #원하는 폴더로 수정가능\n",
        "#경로 + 검색어\n",
        "url = \"https://v4.map.naver.com/\"\n",
        "#브라우저를 크롬으로 만들어주고 인스턴스를 생성해준다.\n",
        "browser = webdriver.Chrome('C:/chromedriver.exe')\n",
        "#브라우저를 오픈할 때 시간간격을 준다.\n",
        "browser.implicitly_wait(3)\n",
        "#해당 경로로 브라우져를 오픈해준다.\n",
        "browser.get(url)\n",
        "time.sleep(1)\n",
        " \n",
        "for _ in range(10000):\n",
        "    # 가로 = 0, 세로 = 30000 픽셀 스크롤한다.\n",
        "    browser.execute_script(\"window.scrollBy(0,30000)\")\n",
        " \n",
        "    \n",
        "count = 0\n",
        "photo_list = []\n",
        " \n",
        "    \n",
        "#span태그의 img_border클래스를 가져옴\n",
        "photo_list = browser.find_elements_by_tag_name(\"span.img_border\")\n",
        " \n",
        "# 소스코드가 있는 경로에 '검색어' 폴더가 없으면 만들어준다.(이미지 저장 폴더를 위해서) \n",
        "if not os.path.exists(searchterm):\n",
        "    os.mkdir(searchterm)\n",
        " \n",
        "for index, img in enumerate(photo_list[0:]):\n",
        "    #위의 큰 이미지를 구하기 위해 위의 태그의 리스트를 하나씩 클릭한다.\n",
        "    img.click()\n",
        "    \n",
        "    #확대된 이미지의 정보는 img태그의 _image_source라는 class안에 담겨있다.\n",
        "    html_objects = browser.find_element_by_tag_name('img._image_source')\n",
        "    current_src = html_objects.get_attribute('src')\n",
        "    \n",
        "    t = urlopen(current_src).read()\n",
        "    if index < 50 : 저장갯수 # 저장갯수 1000장까지 가능\n",
        "        filename = searchterm+str(count)+\".jpg\"\n",
        "        File = open(os.path.join(searchterm , searchterm + \"_\" + str(count) + \".jpg\"), \"wb\")\n",
        "        File.write(t)\n",
        "        count += 1\n",
        "        #before_src = current_src 조금 더 고민\n",
        "        #current_src = \"\"\n",
        "        print(\"img save\"+str(count))\n",
        "    else:\n",
        "        print(\"저장 성공\")\n",
        "        browser.close()       \n",
        "        break"
      ],
      "execution_count": null,
      "outputs": []
    }
  ]
}